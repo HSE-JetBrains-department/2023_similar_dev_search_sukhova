{
  "nbformat": 4,
  "nbformat_minor": 0,
  "metadata": {
    "colab": {
      "provenance": []
    },
    "kernelspec": {
      "name": "python3",
      "display_name": "Python 3"
    },
    "language_info": {
      "name": "python"
    }
  },
  "cells": [
    {
      "cell_type": "code",
      "execution_count": 7,
      "metadata": {
        "colab": {
          "base_uri": "https://localhost:8080/"
        },
        "id": "XJv7_v6ARGBf",
        "outputId": "d1dc1f75-c052-4466-b978-0f586eb02411"
      },
      "outputs": [
        {
          "output_type": "stream",
          "name": "stdout",
          "text": [
            "Reading package lists... Done\n",
            "Building dependency tree       \n",
            "Reading state information... Done\n",
            "python3.8-venv is already the newest version (3.8.10-0ubuntu1~20.04.6).\n",
            "The following package was automatically installed and is no longer required:\n",
            "  libnvidia-common-510\n",
            "Use 'apt autoremove' to remove it.\n",
            "0 upgraded, 0 newly installed, 0 to remove and 21 not upgraded.\n"
          ]
        }
      ],
      "source": [
        "!apt install python3.8-venv\n",
        "!python -m venv \"my_venv\""
      ]
    },
    {
      "cell_type": "code",
      "source": [
        "!pip install pydriller"
      ],
      "metadata": {
        "colab": {
          "base_uri": "https://localhost:8080/"
        },
        "id": "waaE0hbASFN0",
        "outputId": "ee922b4e-48e3-4ba6-c841-d70d387f5f40"
      },
      "execution_count": 8,
      "outputs": [
        {
          "output_type": "stream",
          "name": "stdout",
          "text": [
            "Looking in indexes: https://pypi.org/simple, https://us-python.pkg.dev/colab-wheels/public/simple/\n",
            "Requirement already satisfied: pydriller in /usr/local/lib/python3.8/dist-packages (2.4)\n",
            "Requirement already satisfied: pytz in /usr/local/lib/python3.8/dist-packages (from pydriller) (2022.7.1)\n",
            "Requirement already satisfied: types-pytz in /usr/local/lib/python3.8/dist-packages (from pydriller) (2022.7.1.0)\n",
            "Requirement already satisfied: gitpython in /usr/local/lib/python3.8/dist-packages (from pydriller) (3.1.30)\n",
            "Requirement already satisfied: lizard in /usr/local/lib/python3.8/dist-packages (from pydriller) (1.17.10)\n",
            "Requirement already satisfied: gitdb<5,>=4.0.1 in /usr/local/lib/python3.8/dist-packages (from gitpython->pydriller) (4.0.10)\n",
            "Requirement already satisfied: smmap<6,>=3.0.1 in /usr/local/lib/python3.8/dist-packages (from gitdb<5,>=4.0.1->gitpython->pydriller) (5.0.0)\n"
          ]
        }
      ]
    },
    {
      "cell_type": "code",
      "source": [
        "import json\n",
        "import tqdm\n",
        "\n",
        "from pydriller import Repository"
      ],
      "metadata": {
        "id": "K4CW96TCShdn"
      },
      "execution_count": 9,
      "outputs": []
    },
    {
      "cell_type": "code",
      "source": [
        "programmers = {}\n",
        "count = 0\n",
        "\n",
        "for commit in Repository('https://github.com/ishepard/pydriller').traverse_commits():\n",
        "  count += 1\n",
        "\n",
        "for commit in tqdm.tqdm(Repository('https://github.com/ishepard/pydriller').traverse_commits(),\n",
        "                        total=count):\n",
        "    author_id = commit.author.email\n",
        "\n",
        "    if author_id not in programmers:\n",
        "        programmers[author_id] = {}\n",
        "    programmers[author_id][commit.author.name + \"_commits\"] = {}\n",
        "\n",
        "    for file in commit.modified_files:\n",
        "        if file.filename not in programmers[author_id]:\n",
        "            programmers[author_id][commit.author.name + \"_commits\"][file.filename] = {\"added\": 0, \"deleted\": 0}\n",
        "        programmers[author_id][commit.author.name + \"_commits\"][file.filename][\"added\"] += file.added_lines\n",
        "        programmers[author_id][commit.author.name + \"_commits\"][file.filename][\"deleted\"] += file.deleted_lines\n"
      ],
      "metadata": {
        "colab": {
          "base_uri": "https://localhost:8080/"
        },
        "id": "QCg0lZHySSgB",
        "outputId": "1c865e61-3d13-42e8-b02c-254fa617ed29"
      },
      "execution_count": 10,
      "outputs": [
        {
          "output_type": "stream",
          "name": "stderr",
          "text": [
            "100%|██████████| 787/787 [00:14<00:00, 55.87it/s]\n"
          ]
        }
      ]
    },
    {
      "cell_type": "code",
      "source": [
        "len(programmers)"
      ],
      "metadata": {
        "colab": {
          "base_uri": "https://localhost:8080/"
        },
        "id": "ndaNjzh4SSpH",
        "outputId": "e01878e4-5b41-466f-8a6c-7ab18b9808fc"
      },
      "execution_count": 11,
      "outputs": [
        {
          "output_type": "execute_result",
          "data": {
            "text/plain": [
              "35"
            ]
          },
          "metadata": {},
          "execution_count": 11
        }
      ]
    },
    {
      "cell_type": "code",
      "source": [
        "with open('pydriller.json', 'w') as fp:\n",
        "    json.dump(programmers, fp)"
      ],
      "metadata": {
        "id": "TA2aF_K8ZA_R"
      },
      "execution_count": 12,
      "outputs": []
    },
    {
      "cell_type": "code",
      "source": [
        "programmers"
      ],
      "metadata": {
        "colab": {
          "base_uri": "https://localhost:8080/"
        },
        "id": "PTMi2WsDaQ-Y",
        "outputId": "65d2beec-19ea-4d6b-bc5f-d7acd88ce80d"
      },
      "execution_count": 13,
      "outputs": [
        {
          "output_type": "execute_result",
          "data": {
            "text/plain": [
              "{'spadini.davide@gmail.com': {'ishepard_commits': {'commit.py': {'added': 2,\n",
              "    'deleted': 2}},\n",
              "  'Spadini Davide_commits': {'.deepsource.toml': {'added': 1, 'deleted': 1}},\n",
              "  'Davide Spadini_commits': {}},\n",
              " 'ledenelintelli@gmail.com': {'Ledenel_commits': {'git_repository.py': {'added': 1,\n",
              "    'deleted': 1}}},\n",
              " 'luca.pascarella@gmail.com': {'Luca Pascarella_commits': {'git_repository.py': {'added': 0,\n",
              "    'deleted': 4}}},\n",
              " 'kanghongjin@gmail.com': {'Kang Hong Jin_commits': {'git_repository.py': {'added': 2,\n",
              "    'deleted': 9},\n",
              "   'repository_mining.py': {'added': 7, 'deleted': 5},\n",
              "   'test_git_repository.py': {'added': 12, 'deleted': 0},\n",
              "   'test_repository_mining.py': {'added': 21, 'deleted': 0}}},\n",
              " 'cgote@ethz.ch': {'Christoph Gote_commits': {'git_repository.py': {'added': 4,\n",
              "    'deleted': 0}}},\n",
              " 'a.serban@cs.ru.nl': {'NullConvergence_commits': {'test-repos.zip': {'added': 0,\n",
              "    'deleted': 0}}},\n",
              " 'mcastelluccio@mozilla.com': {'Marco Castelluccio_commits': {'git_repository.py': {'added': 15,\n",
              "    'deleted': 36},\n",
              "   'hyperblame.py': {'added': 0, 'deleted': 282},\n",
              "   'test_git_repository.py': {'added': 19, 'deleted': 6}}},\n",
              " 'Lenny@codematic.com': {'Codematic71_commits': {'tutorial.rst': {'added': 1,\n",
              "    'deleted': 1}}},\n",
              " 'stefano.dallapalma0@gmail.com': {'stefanodallapalma_commits': {'commit.py': {'added': 2,\n",
              "    'deleted': 2}},\n",
              "  'Stefano Dalla Palma_commits': {'test_git_repository.py': {'added': 1,\n",
              "    'deleted': 1}}},\n",
              " '32761621+yusufsn@users.noreply.github.com': {'Yusuf Sulistyo Nugroho_commits': {'README.md': {'added': 13,\n",
              "    'deleted': 0}}},\n",
              " 'j.goodwin049@gmail.com': {'James Goodwin_commits': {'test_repository_mining.py': {'added': 6,\n",
              "    'deleted': 3}}},\n",
              " '32632523+NullConvergence@users.noreply.github.com': {'Alex_commits': {'commit.py': {'added': 1,\n",
              "    'deleted': 1}}},\n",
              " 'arie.vandeursen@tudelft.nl': {'Arie van Deursen_commits': {'deltamaintainability.rst': {'added': 2,\n",
              "    'deleted': 1},\n",
              "   'commit.py': {'added': 9, 'deleted': 14},\n",
              "   'test_dmm.py': {'added': 9, 'deleted': 9}}},\n",
              " 'evan.casey@allstacks.com': {'Evan Casey_commits': {'test_commit_filters.py': {'added': 41,\n",
              "    'deleted': 1}}},\n",
              " 'stephposs@gmail.com': {'Stephane Poss_commits': {'commit.py': {'added': 6,\n",
              "    'deleted': 1}}},\n",
              " 'liuchao890@126.com': {'butterl_commits': {'commit.py': {'added': 1,\n",
              "    'deleted': 1}}},\n",
              " 'felipe.ebert@gmail.com': {'Felipe Ebert_commits': {'gitrepository.rst': {'added': 1,\n",
              "    'deleted': 1}}},\n",
              " 'dtuchyna@redhat.com': {'Dominik Tuchyna_commits': {'processmetrics.rst': {'added': 1,\n",
              "    'deleted': 1}}},\n",
              " 'ropf@itu.dk': {'HelgeCPH_commits': {'repository.py': {'added': 1,\n",
              "    'deleted': 2}}},\n",
              " 'dspadini@fb.com': {'Davide Spadini_commits': {'developer.py': {'added': 4,\n",
              "    'deleted': 1},\n",
              "   'git.py': {'added': 5, 'deleted': 5},\n",
              "   'change_set.py': {'added': 3, 'deleted': 2},\n",
              "   'code_churn.py': {'added': 3, 'deleted': 2},\n",
              "   'contributors_count.py': {'added': 3, 'deleted': 2},\n",
              "   'lines_count.py': {'added': 3, 'deleted': 2},\n",
              "   'process_metric.py': {'added': 5, 'deleted': 4},\n",
              "   'repository.py': {'added': 12, 'deleted': 12}}},\n",
              " 'grzegorz.lato@gmail.com': {'Gregor Lato_commits': {'code_churn.py': {'added': 4,\n",
              "    'deleted': 4},\n",
              "   'test_code_churn.py': {'added': 2, 'deleted': 2}}},\n",
              " 'shantanu.oak@gmail.com': {'Shantanu Oak_commits': {'README.md': {'added': 1,\n",
              "    'deleted': 1}}},\n",
              " 'an.dodet@gmail.com': {'andodet_commits': {'test_repository_mining.py': {'added': 7,\n",
              "    'deleted': 0}}},\n",
              " 'k----n@users.noreply.github.com': {'k----n_commits': {'modifiedfile.rst': {'added': 2,\n",
              "    'deleted': 2}}},\n",
              " '9467666+k----n@users.noreply.github.com': {'k----n_commits': {'commit.rst': {'added': 1,\n",
              "    'deleted': 1}}},\n",
              " 'gliptak@gmail.com': {'Gábor Lipták_commits': {'continuous-integration-workflow.yml': {'added': 3,\n",
              "    'deleted': 3}}},\n",
              " 'th.trummer@gmail.com': {'Thomas Trummer_commits': {'repository.py': {'added': 1,\n",
              "    'deleted': 1}}},\n",
              " '12f23eddde@gmail.com': {'12f23eddde_commits': {'git.py': {'added': 6,\n",
              "    'deleted': 2},\n",
              "   'repository.py': {'added': 8, 'deleted': 1},\n",
              "   'test_repository_mining.py': {'added': 9, 'deleted': 0}}},\n",
              " 'totoroq@outlook.com': {'Yibo Yan_commits': {'repository.py': {'added': 0,\n",
              "    'deleted': 5}}},\n",
              " 'stefano.dallapalmapalma0@gmail.com': {'stefanodallapalma_commits': {'commit.py': {'added': 0,\n",
              "    'deleted': 8}}},\n",
              " '50012463+gremat@users.noreply.github.com': {'gremat_commits': {'setup.py': {'added': 1,\n",
              "    'deleted': 1}}},\n",
              " 'lgtm-migrator@users.noreply.github.com': {'LGTM Migrator_commits': {'codeql.yml': {'added': 41,\n",
              "    'deleted': 0}}},\n",
              " 'ha.t@cybersierra.co': {'Ha_commits': {'test_repository_mining.py': {'added': 2,\n",
              "    'deleted': 2}}},\n",
              " 'dspadini@meta.com': {'Davide Spadini_commits': {}},\n",
              " 'ondrej.tethal@oracle.com': {'Ondrej Tethal_commits': {'commit.py': {'added': 1,\n",
              "    'deleted': 1}}}}"
            ]
          },
          "metadata": {},
          "execution_count": 13
        }
      ]
    }
  ]
}